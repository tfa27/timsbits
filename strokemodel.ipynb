{
 "cells": [
  {
   "cell_type": "code",
   "execution_count": 90,
   "metadata": {
    "scrolled": true
   },
   "outputs": [
    {
     "name": "stdout",
     "output_type": "stream",
     "text": [
      "accuracy:  98.028 %\n",
      "Cross Validation Accuracy:  98.15 %\n"
     ]
    }
   ],
   "source": [
    "# predicting whether an individual is likely to have a stroke based on various factors such as where they live, whether they've smoked, what kind of occupation they have, various health factors and age.\n",
    "\n",
    "# please find dataset at this link https://drive.google.com/file/d/1iDqhBs1JwEpub56nL6npcDfKnkvxZRM9/view?usp=sharing\n",
    "\n",
    "import pandas as pd\n",
    "import numpy as np\n",
    "import matplotlib.pyplot as plt\n",
    "%matplotlib inline\n",
    "\n",
    "df = pd.read_csv('stroke_data.csv')\n",
    "#df_test = pd.read_csv('stroke_test.csv')\n",
    "\n",
    "df = df.dropna()\n",
    "\n",
    "df = pd.get_dummies(df)\n",
    "\n",
    "df = df.drop(columns= 'id',axis=1)\n",
    "df = df.drop(columns= 'gender_Other',axis=1)\n",
    "df = df.drop(columns= 'ever_married_No',axis=1)\n",
    "df = df.drop(columns= 'work_type_children',axis=1)\n",
    "df = df.drop(columns= 'Residence_type_Rural',axis=1)\n",
    "df = df.drop(columns= 'smoking_status_never smoked',axis=1)\n",
    "\n",
    "cm = df.corr()['stroke']\n",
    "cm\n",
    "\n",
    "feat = df.drop(columns = ['stroke'], axis=1)\n",
    "label = df['stroke']\n",
    "\n",
    "from sklearn.model_selection import train_test_split\n",
    "X_train, X_test, y_train, y_test = train_test_split(feat, label, test_size=0.3)\n",
    "\n",
    "from sklearn.svm import SVC\n",
    "support_vector_classifier = SVC(kernel='rbf', gamma = 'auto')\n",
    "support_vector_classifier.fit(X_train, y_train)\n",
    "y_pred_svc = support_vector_classifier.predict(X_test)\n",
    "\n",
    "from sklearn.metrics import confusion_matrix\n",
    "\n",
    "cm_support_vector_classifier = confusion_matrix(y_test, y_pred_svc)\n",
    "\n",
    "numerator = cm_support_vector_classifier[0][0]+cm_support_vector_classifier[1][1]\n",
    "denominator = sum(cm_support_vector_classifier[0])+sum(cm_support_vector_classifier[1])\n",
    "acc_svc = (numerator/denominator)*100\n",
    "\n",
    "print('accuracy: ', round(acc_svc, 3), '%')\n",
    "\n",
    "from sklearn.model_selection import cross_val_score\n",
    "\n",
    "cross_val_svc = cross_val_score(estimator = SVC(kernel = 'rbf'), X=X_train, y = y_train, cv =5, n_jobs = -1)\n",
    "\n",
    "print('Cross Validation Accuracy: ', round(cross_val_svc.mean()*100, 2),'%')"
   ]
  },
  {
   "cell_type": "code",
   "execution_count": null,
   "metadata": {},
   "outputs": [],
   "source": []
  }
 ],
 "metadata": {
  "kernelspec": {
   "display_name": "Python 3",
   "language": "python",
   "name": "python3"
  },
  "language_info": {
   "codemirror_mode": {
    "name": "ipython",
    "version": 3
   },
   "file_extension": ".py",
   "mimetype": "text/x-python",
   "name": "python",
   "nbconvert_exporter": "python",
   "pygments_lexer": "ipython3",
   "version": "3.7.4"
  }
 },
 "nbformat": 4,
 "nbformat_minor": 2
}
