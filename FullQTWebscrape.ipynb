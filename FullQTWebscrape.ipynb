{
 "cells": [
  {
   "cell_type": "code",
   "execution_count": 5,
   "metadata": {},
   "outputs": [],
   "source": [
    "from bs4 import BeautifulSoup as soup\n",
    "from urllib.request import urlopen as uReq\n",
    "import re\n",
    "import pandas as pd\n",
    "import numpy as np\n",
    "import matplotlib.pyplot as plt\n",
    "%matplotlib inline"
   ]
  },
  {
   "cell_type": "code",
   "execution_count": 6,
   "metadata": {},
   "outputs": [],
   "source": [
    "n_fndel = 1\n",
    "fndel = []\n",
    "while n_fndel < 122:\n",
    "    fndel.append('['+'fn '+ str(n_fndel)+']')\n",
    "    n_fndel += 1\n",
    "months = ['January', 'February', 'March', 'April', 'May', 'June', 'July', 'August', 'September', 'October', 'November', 'December']\n",
    "months_num = ['01', '02', '03', '04', '05', '06', '07', '08', '09', '10', '11', '12']\n",
    "\n",
    "list_of_dates = []\n",
    "month = 1\n",
    "year = 1979\n",
    "day = 1\n",
    "while year < 2020:\n",
    "    while month < 13:\n",
    "        while day < 32:\n",
    "            if day < 10 and month < 10:\n",
    "                date = '0' + str(day)+'0' +str(month)+str(year)\n",
    "                list_of_dates.append(date)\n",
    "                day += 1\n",
    "            elif month < 10:\n",
    "                date = str(day)+'0'+ str(month)+str(year)\n",
    "                list_of_dates.append(date)\n",
    "                day += 1\n",
    "            elif day < 10:\n",
    "                date = '0' + str(day)+str(month)+str(year)\n",
    "                list_of_dates.append(date)\n",
    "                day += 1\n",
    "            else:\n",
    "                date = str(day)+str(month)+str(year)\n",
    "                list_of_dates.append(date)\n",
    "                day += 1\n",
    "        if day == 32:\n",
    "            day = 1\n",
    "            month += 1\n",
    "    if month == 13:\n",
    "        year += 1\n",
    "        month = 1"
   ]
  },
  {
   "cell_type": "code",
   "execution_count": 7,
   "metadata": {
    "scrolled": true
   },
   "outputs": [
    {
     "data": {
      "text/plain": [
       "10"
      ]
     },
     "execution_count": 7,
     "metadata": {},
     "output_type": "execute_result"
    }
   ],
   "source": [
    "# acquiring the list of all question time panellists since 1979\n",
    "myurl = 'https://en.wikipedia.org/wiki/List_of_Question_Time_episodes'\n",
    "uClient = uReq(myurl)\n",
    "pagehtml=uClient.read()\n",
    "uClient.close()\n",
    "pagesoup = soup(pagehtml, 'html.parser')\n",
    "\n",
    "info = pagesoup.findAll('table', 'wikitable', 'td')\n",
    "\n",
    "filename = 'qtpanel.csv'\n",
    "f = open(filename, 'w')\n",
    "headers = 'date,name\\n'\n",
    "f.write(headers)"
   ]
  },
  {
   "cell_type": "code",
   "execution_count": 8,
   "metadata": {},
   "outputs": [],
   "source": [
    "year = 3\n",
    "while year < 44:\n",
    "    yearinfo = info[year].findAll('tr')\n",
    "    episode = 1\n",
    "    while episode < len(yearinfo):\n",
    "        show = yearinfo[episode]\n",
    "        txt = show.get_text()\n",
    "        n_fndel = 0\n",
    "        while n_fndel < 121:\n",
    "            if fndel[n_fndel] in txt:\n",
    "                txt = txt.replace(fndel[n_fndel], '')\n",
    "            n_fndel += 1\n",
    "        i_dates1 = 0\n",
    "        if '(General Election Special)' in txt:\n",
    "            txt = txt.replace('(General Election Special)', '')\n",
    "        if 'Post General Election Special' in txt:\n",
    "            txt = txt.replace('Post General Election Special', '')\n",
    "        if \"Leaders' General Election Special\" in txt:\n",
    "            txt = txt.replace(\"Leaders' General Election Special\", '')\n",
    "        if '.' in txt:\n",
    "            txt = txt.replace('.', '')\n",
    "        if 'anniversary' in txt:\n",
    "            txt = txt.replace('anniversary', '')\n",
    "        while i_dates1 < 5:\n",
    "            ind_n = txt.find('\\n')\n",
    "            txt = txt[ind_n+1:]\n",
    "            i_dates1+=1\n",
    "        txt_dates = txt\n",
    "        i_names1 = 0\n",
    "        while i_names1 < 4:\n",
    "            ind_n = txt.find('\\n')\n",
    "            txt = txt[ind_n+1:]\n",
    "            i_names1 += 1\n",
    "        txt_names = txt\n",
    "        txt_dates = txt_dates.replace(' ', '')\n",
    "        i_dates2 = 0\n",
    "        while i_dates2 < 12:\n",
    "            if months[i_dates2] in txt_dates:\n",
    "                txt_dates = txt_dates.replace(months[i_dates2],months_num[i_dates2])\n",
    "            i_dates2 += 1\n",
    "        ind_dates = txt_dates.find('\\n')\n",
    "        if ind_dates < 8:\n",
    "            txt_dates = '0' + txt_dates\n",
    "        elif ind_dates >=8:\n",
    "            txt_dates = txt_dates\n",
    "        for dates in list_of_dates:\n",
    "            if dates in txt_dates:\n",
    "                txt_dates = txt_dates[:len(dates)]\n",
    "        txt_names = txt_names.replace('\\n', '')\n",
    "        if ' and' in txt_names:\n",
    "            txt_names = txt_names.replace(' and', ',')\n",
    "        if '[' in txt_names:\n",
    "            txt_names = txt_names.replace('[', '')\n",
    "        if ']' in txt_names:\n",
    "            txt_names = txt_names.replace(']', '')\n",
    "        if 'Election Question Time' in txt_names:\n",
    "            txt_names = txt_names.replace('Election Question Time', '')\n",
    "        if 'General Election special' in txt_names:\n",
    "            txt_names = txt_names.replace('General Election special', '')\n",
    "        if '[fn ' in txt_names:\n",
    "            txt_names = txt_names.replace('[fn ', '')\n",
    "        i_names2 = 0\n",
    "        while i_names2 < 10:\n",
    "            if str(i_names2) in txt_names:\n",
    "                txt_names = txt_names.replace(str(i_names2), '')\n",
    "            i_names2 += 1\n",
    "        if 'Presenter' in txt_names:\n",
    "            ind_presenter = txt_names.find('Presenter')\n",
    "            txt_names = txt_names[0:ind_presenter]\n",
    "        if 'Simon Jenkins Michael Howard' in txt_names:\n",
    "            txt_names = txt_names.replace('Simon Jenkins Michael Howard', 'Simon Jenkins, Michael Howard')\n",
    "        txt_names = txt_names.split(', ')\n",
    "        i_bastards = 0\n",
    "        while i_bastards < 5:\n",
    "            if '[' and ']' in txt_dates:\n",
    "                ind_1 = txt_dates.find('[')\n",
    "                ind_2 = txt_dates.find(']')\n",
    "                bastards = txt_dates[ind_1:ind_2+1]\n",
    "                txt_dates = txt_dates.replace(bastards, '')\n",
    "            i_bastards += 1\n",
    "        if '[' or ']' in txt_dates:\n",
    "                txt_dates = txt_dates.replace('[', '')\n",
    "                txt_dates = txt_dates.replace(']', '')\n",
    "        length = len(txt_names)\n",
    "        iii = 0\n",
    "        while iii < length:\n",
    "            f.write(str(txt_dates) + ',' + str(txt_names[iii]) + '\\n')\n",
    "            iii += 1\n",
    "        episode += 1\n",
    "    year += 1\n",
    "\n",
    "\n",
    "f.close()"
   ]
  },
  {
   "cell_type": "code",
   "execution_count": 9,
   "metadata": {},
   "outputs": [
    {
     "name": "stderr",
     "output_type": "stream",
     "text": [
      "b'Skipping line 4523: expected 2 fields, saw 5\\nSkipping line 4531: expected 2 fields, saw 5\\nSkipping line 4539: expected 2 fields, saw 5\\nSkipping line 4547: expected 2 fields, saw 5\\nSkipping line 4555: expected 2 fields, saw 5\\nSkipping line 4843: expected 2 fields, saw 5\\nSkipping line 4851: expected 2 fields, saw 5\\nSkipping line 4859: expected 2 fields, saw 5\\nSkipping line 4867: expected 2 fields, saw 5\\nSkipping line 4875: expected 2 fields, saw 5\\nSkipping line 5373: expected 2 fields, saw 6\\nSkipping line 5381: expected 2 fields, saw 6\\nSkipping line 5389: expected 2 fields, saw 6\\nSkipping line 5397: expected 2 fields, saw 6\\nSkipping line 5405: expected 2 fields, saw 6\\nSkipping line 5413: expected 2 fields, saw 6\\nSkipping line 5576: expected 2 fields, saw 5\\nSkipping line 5584: expected 2 fields, saw 5\\nSkipping line 5592: expected 2 fields, saw 5\\nSkipping line 5600: expected 2 fields, saw 5\\nSkipping line 5608: expected 2 fields, saw 5\\nSkipping line 5812: expected 2 fields, saw 5\\nSkipping line 5820: expected 2 fields, saw 5\\nSkipping line 5828: expected 2 fields, saw 5\\nSkipping line 5836: expected 2 fields, saw 5\\nSkipping line 5844: expected 2 fields, saw 5\\n'\n"
     ]
    }
   ],
   "source": [
    "df = pd.read_csv('qtpanel.csv', error_bad_lines=False)"
   ]
  },
  {
   "cell_type": "code",
   "execution_count": 10,
   "metadata": {},
   "outputs": [],
   "source": [
    "int_datereplace = 4519\n",
    "fourmar2010 = ['Andrew Adonis', 'Boris Johnson', 'Shirley Williams', 'Carol Vorderman', 'Will Self']\n",
    "while int_datereplace < 4532:\n",
    "    if df['name'].iloc[int_datereplace] in fourmar2010:\n",
    "        df.iloc[int_datereplace, df.columns.get_loc('date')] = '04032010'\n",
    "    int_datereplace += 1"
   ]
  },
  {
   "cell_type": "code",
   "execution_count": 11,
   "metadata": {},
   "outputs": [],
   "source": [
    "int_datereplace = 4812\n",
    "sevenjuly2011 = ['Chris Grayling', 'Douglas Alexander', 'Shirley Williams', 'Hugh Grant', 'Jon Gaunt']\n",
    "\n",
    "while int_datereplace < 4827:\n",
    "    if df['name'].iloc[int_datereplace] in sevenjuly2011:\n",
    "        df.iloc[int_datereplace, df.columns.get_loc('date')] = '07072011'\n",
    "    int_datereplace += 1"
   ]
  },
  {
   "cell_type": "code",
   "execution_count": 12,
   "metadata": {},
   "outputs": [],
   "source": [
    "int_datereplace = 5492\n",
    "fivefeb2015 = ['Nicky Morgan', 'Tristram Hunt', 'George Galloway', 'Cristina Odone', 'Jonathan Freedland']\n",
    "\n",
    "while int_datereplace < 5505:\n",
    "    if df['name'].iloc[int_datereplace] in fivefeb2015:\n",
    "        df.iloc[int_datereplace, df.columns.get_loc('date')] = '05022015'\n",
    "    int_datereplace += 1"
   ]
  },
  {
   "cell_type": "code",
   "execution_count": 13,
   "metadata": {},
   "outputs": [],
   "source": [
    "int_datereplace = 5703\n",
    "fourfeb2016 = ['Amber Rudd', 'Shabana Mahmood', 'Paul Nuttall', 'Sal Brinton', 'Isabel Oakeshott']\n",
    "\n",
    "while int_datereplace < 5716:\n",
    "    if df['name'].iloc[int_datereplace] in fourfeb2016:\n",
    "        df.iloc[int_datereplace, df.columns.get_loc('date')] = '04022016'\n",
    "    int_datereplace += 1"
   ]
  },
  {
   "cell_type": "code",
   "execution_count": 14,
   "metadata": {},
   "outputs": [],
   "source": [
    "df = df.dropna()\n",
    "df = df[df.name != 'England']\n",
    "df = df.drop([6461])\n",
    "df.to_csv('clean_qtpanellists.csv')"
   ]
  },
  {
   "cell_type": "code",
   "execution_count": 15,
   "metadata": {},
   "outputs": [],
   "source": [
    "# now acquiring a list of all politicians and party affiliations\n",
    "# Conservatives\n",
    "myurl = 'https://en.wikipedia.org/wiki/List_of_Conservative_Party_MPs_(UK)'\n",
    "uClient = uReq(myurl)\n",
    "pagehtml=uClient.read()\n",
    "uClient.close()\n",
    "pagesoup = soup(pagehtml, 'html.parser')\n",
    "\n",
    "names = pagesoup.findAll('li')\n",
    "\n",
    "filename = 'Conservative MPs.csv'\n",
    "f = open(filename, 'w')\n",
    "headers = 'name, party\\n'\n",
    "f.write(headers)\n",
    "\n",
    "ind_cons = 28\n",
    "while ind_cons < 2125:\n",
    "    name = names[ind_cons].get_text()\n",
    "    name = name.replace(',', '')\n",
    "    if ';' in name:\n",
    "        ind_semic = name.find(';')\n",
    "        name = name[0:ind_semic]\n",
    "    f.write(name + ','+ 'Conservative'+'\\n')\n",
    "    ind_cons += 1\n",
    "f.close()\n",
    "\n",
    "df_cons = pd.read_csv('Conservative MPs.csv')"
   ]
  },
  {
   "cell_type": "code",
   "execution_count": 16,
   "metadata": {},
   "outputs": [],
   "source": [
    "# Labour\n",
    "filename = 'Labour MPs.csv'\n",
    "f = open(filename, 'w')\n",
    "headers = 'name, party\\n'\n",
    "f.write(headers)\n",
    "\n",
    "myurl = 'https://en.wikipedia.org/wiki/List_of_Labour_Party_(UK)_MPs'\n",
    "uClient = uReq(myurl)\n",
    "pagehtml=uClient.read()\n",
    "uClient.close()\n",
    "pagesoup = soup(pagehtml, 'html.parser')\n",
    "\n",
    "names = pagesoup.findAll('li')\n",
    "\n",
    "ind_lab = 28\n",
    "while ind_lab < 1111:\n",
    "    name = names[ind_lab].get_text()\n",
    "    ind_comma = name.find(',')\n",
    "    name = name[0:ind_comma]\n",
    "    f.write(name + ','+ 'Labour'+'\\n')\n",
    "    ind_lab += 1\n",
    "f.close()\n",
    "\n",
    "df_lab = pd.read_csv('Labour MPs.csv')"
   ]
  },
  {
   "cell_type": "code",
   "execution_count": 17,
   "metadata": {},
   "outputs": [],
   "source": [
    "# Liberal Party\n",
    "filename = 'Liberal MPs.csv'\n",
    "f = open(filename, 'w')\n",
    "headers = 'name, party\\n'\n",
    "f.write(headers)\n",
    "myurl = 'https://en.wikipedia.org/wiki/List_of_Liberal_Party_(UK)_MPs'\n",
    "uClient = uReq(myurl)\n",
    "pagehtml=uClient.read()\n",
    "uClient.close()\n",
    "pagesoup = soup(pagehtml, 'html.parser')\n",
    "\n",
    "names = pagesoup.findAll('li')\n",
    "ind_lib = 28\n",
    "while ind_lib < 350:\n",
    "    name = names[ind_lib].get_text()\n",
    "    ind_comma = name.find(',')\n",
    "    name = name[0:ind_comma]\n",
    "    f.write(name + ','+ 'Liberal'+'\\n')\n",
    "    ind_lib += 1\n",
    "f.close()\n",
    "\n",
    "df_lib = pd.read_csv('Liberal MPs.csv')"
   ]
  },
  {
   "cell_type": "code",
   "execution_count": 18,
   "metadata": {},
   "outputs": [],
   "source": [
    "# Liberal Democrats\n",
    "filename = 'Liberal Democrat MPs.csv'\n",
    "f = open(filename, 'w')\n",
    "headers = 'name, party\\n'\n",
    "f.write(headers)\n",
    "myurl = 'https://en.wikipedia.org/wiki/List_of_Liberal_Democrat_MPs'\n",
    "uClient = uReq(myurl)\n",
    "pagehtml=uClient.read()\n",
    "uClient.close()\n",
    "pagesoup = soup(pagehtml, 'html.parser')\n",
    "names = pagesoup.findAll('li')\n",
    "\n",
    "ind_libdem = 0\n",
    "while ind_libdem < 125:\n",
    "    name = names[ind_libdem].get_text()\n",
    "    ind_comma = name.find(',')\n",
    "    name = name[0:ind_comma]\n",
    "    f.write(name + ','+ 'Liberal Democrats'+'\\n')\n",
    "    ind_libdem += 1\n",
    "f.close()\n",
    "\n",
    "df_libdems = pd.read_csv('Liberal Democrat MPs.csv')"
   ]
  },
  {
   "cell_type": "code",
   "execution_count": 19,
   "metadata": {},
   "outputs": [],
   "source": [
    "# DUP\n",
    "filename = 'DUP MPs.csv'\n",
    "f = open(filename, 'w')\n",
    "headers = 'name, party\\n'\n",
    "f.write(headers)\n",
    "myurl = 'https://en.wikipedia.org/wiki/List_of_Democratic_Unionist_Party_MPs'\n",
    "uClient = uReq(myurl)\n",
    "pagehtml=uClient.read()\n",
    "uClient.close()\n",
    "pagesoup = soup(pagehtml, 'html.parser')\n",
    "names = pagesoup.findAll('tr')\n",
    "\n",
    "ind_dup = 1\n",
    "while ind_dup < 17:\n",
    "    name = names[ind_dup].get_text()\n",
    "    name = name[1:]\n",
    "    ind_n = name.find('\\n')\n",
    "    name = name[0:ind_n]\n",
    "    f.write(name + ','+ 'Democratic Unionist Party'+'\\n')\n",
    "    ind_dup += 1\n",
    "f.close()\n",
    "\n",
    "\n",
    "df_dup = pd.read_csv('DUP MPs.csv')"
   ]
  },
  {
   "cell_type": "code",
   "execution_count": 20,
   "metadata": {},
   "outputs": [],
   "source": [
    "# SNP\n",
    "filename = 'SNP MPs.csv'\n",
    "f = open(filename, 'w')\n",
    "headers = 'name, party\\n'\n",
    "f.write(headers)\n",
    "myurl = 'https://en.wikipedia.org/wiki/List_of_Scottish_National_Party_MPs'\n",
    "uClient = uReq(myurl)\n",
    "pagehtml=uClient.read()\n",
    "uClient.close()\n",
    "pagesoup = soup(pagehtml, 'html.parser')\n",
    "names = pagesoup.findAll('tr')\n",
    "\n",
    "ind_snp = 1\n",
    "while ind_snp < 84:\n",
    "    name = names[ind_snp].get_text()\n",
    "    name = name[1:]\n",
    "    ind_n = name.find('\\n')\n",
    "    name = name[0:ind_n]\n",
    "    f.write(name + ','+ 'Scottish National Party'+'\\n')\n",
    "    ind_snp += 1\n",
    "f.close()\n",
    "\n",
    "df_snp = pd.read_csv('SNP MPs.csv')"
   ]
  },
  {
   "cell_type": "code",
   "execution_count": 21,
   "metadata": {},
   "outputs": [],
   "source": [
    "# Plaid Cymru\n",
    "filename = 'Plaid Cymru MPs.csv'\n",
    "f = open(filename, 'w')\n",
    "headers = 'name, party\\n'\n",
    "f.write(headers)\n",
    "myurl = 'https://en.wikipedia.org/wiki/List_of_Plaid_Cymru_MPs'\n",
    "uClient = uReq(myurl)\n",
    "pagehtml=uClient.read()\n",
    "uClient.close()\n",
    "pagesoup = soup(pagehtml, 'html.parser')\n",
    "names = pagesoup.findAll('tr')\n",
    "\n",
    "ind_pc = 1\n",
    "while ind_pc < 14:\n",
    "    if ind_pc != 9:\n",
    "        name = names[ind_pc].get_text()\n",
    "        name = name[1:]\n",
    "        ind_n = name.find('\\n')\n",
    "        name = name[0:ind_n]\n",
    "        f.write(name + ','+ 'Plaid Cymru'+'\\n')\n",
    "    ind_pc += 1\n",
    "f.close()\n",
    "\n",
    "df_pc = pd.read_csv('Plaid Cymru MPs.csv')"
   ]
  },
  {
   "cell_type": "code",
   "execution_count": 22,
   "metadata": {},
   "outputs": [],
   "source": [
    "frames = [df_cons, df_lab, df_lib, df_libdems, df_dup, df_snp, df_pc]\n",
    "\n",
    "df_politicians = pd.concat(frames)\n",
    "pd.set_option('display.max_rows', df_politicians.shape[0]+1)"
   ]
  },
  {
   "cell_type": "code",
   "execution_count": 23,
   "metadata": {},
   "outputs": [],
   "source": [
    "#export to csv\n",
    "export_csv = df_politicians.to_csv (r'UK Politicians.csv', index = None, header=True)"
   ]
  },
  {
   "cell_type": "code",
   "execution_count": 24,
   "metadata": {},
   "outputs": [],
   "source": [
    "# now to put it all together!\n",
    "df_politicians = pd.read_csv('UK Politicians.csv')\n",
    "df_qtpanellists = pd.read_csv('clean_qtpanellists.csv')"
   ]
  },
  {
   "cell_type": "code",
   "execution_count": 25,
   "metadata": {},
   "outputs": [],
   "source": [
    "df_new = pd.merge(df_qtpanellists, df_politicians, how = 'left')\n",
    "df_new = df_new.dropna()"
   ]
  },
  {
   "cell_type": "code",
   "execution_count": 26,
   "metadata": {},
   "outputs": [],
   "source": [
    "df_parties = df_new.drop(columns = 'name' , axis =1)"
   ]
  },
  {
   "cell_type": "code",
   "execution_count": 27,
   "metadata": {},
   "outputs": [],
   "source": [
    "date = df_parties['date']\n",
    "party = df_parties.drop(columns = 'date',axis=1)\n",
    "party = pd.get_dummies(party)\n",
    "df_parties = pd.concat([date, party], axis = 1)\n",
    "df_pt_years = list(df_parties['date'])"
   ]
  },
  {
   "cell_type": "code",
   "execution_count": 28,
   "metadata": {},
   "outputs": [],
   "source": [
    "i_year = 0\n",
    "while i_year < len(df_pt_years):\n",
    "    year = df_pt_years[i_year]\n",
    "    year = year[4:]\n",
    "    df_pt_years[i_year] = year\n",
    "    i_year += 1"
   ]
  },
  {
   "cell_type": "code",
   "execution_count": 29,
   "metadata": {},
   "outputs": [],
   "source": [
    "df_parties['date'] = df_pt_years"
   ]
  },
  {
   "cell_type": "code",
   "execution_count": 30,
   "metadata": {},
   "outputs": [],
   "source": [
    "df_parties = df_parties.drop(columns = 'Unnamed: 0', axis = 1)"
   ]
  },
  {
   "cell_type": "code",
   "execution_count": 31,
   "metadata": {},
   "outputs": [],
   "source": [
    "df_parties = df_parties.reset_index()\n",
    "df_parties = df_parties.drop(columns = 'index',axis=1)"
   ]
  },
  {
   "cell_type": "code",
   "execution_count": 32,
   "metadata": {},
   "outputs": [],
   "source": [
    "years = []\n",
    "\n",
    "i_years = 0\n",
    "while i_years < len(df_pt_years):\n",
    "    if i_years == 0:\n",
    "        year = df_pt_years[i_years]\n",
    "        years.append(year)\n",
    "    elif df_pt_years[i_years] != df_pt_years[i_years-1]:\n",
    "        year = df_pt_years[i_years]\n",
    "        years.append(year)\n",
    "    i_years += 1"
   ]
  },
  {
   "cell_type": "code",
   "execution_count": 33,
   "metadata": {},
   "outputs": [],
   "source": [
    "intyears = 0\n",
    "sums = []\n",
    "while intyears < 41:\n",
    "    n=1\n",
    "    for i in df_pt_years:\n",
    "        if years[intyears] == i:\n",
    "            n += 1\n",
    "    sums.append(n)\n",
    "    intyears += 1"
   ]
  },
  {
   "cell_type": "code",
   "execution_count": 34,
   "metadata": {},
   "outputs": [],
   "source": [
    "n = 0\n",
    "\n",
    "conslist = df_parties[' party_Conservative']\n",
    "ind1 = 0\n",
    "ind2=0\n",
    "conssum = []\n",
    "\n",
    "while n < len(years):\n",
    "    ind2 += sums[n]\n",
    "    if n != 0:\n",
    "        ind1 += sums[n-1]\n",
    "    if n == 0:\n",
    "        slices = conslist[0:ind2]\n",
    "        slicesum = sum(slices)\n",
    "    if n != 0:\n",
    "        slices = conslist[ind1:ind2]\n",
    "        slicesum = sum(slices)\n",
    "    conssum.append(slicesum)\n",
    "    n += 1"
   ]
  },
  {
   "cell_type": "code",
   "execution_count": 35,
   "metadata": {},
   "outputs": [],
   "source": [
    "n = 0\n",
    "\n",
    "lablist = df_parties[' party_Labour']\n",
    "ind1 = 0\n",
    "ind2=0\n",
    "labsum = []\n",
    "\n",
    "while n < len(years):\n",
    "    ind2 += sums[n]\n",
    "    if n != 0:\n",
    "        ind1 += sums[n-1]\n",
    "    if n == 0:\n",
    "        slices = lablist[0:ind2]\n",
    "        slicesum = sum(slices)\n",
    "    if n != 0:\n",
    "        slices = lablist[ind1:ind2]\n",
    "        slicesum = sum(slices)\n",
    "    labsum.append(slicesum)\n",
    "    n += 1"
   ]
  },
  {
   "cell_type": "code",
   "execution_count": 36,
   "metadata": {},
   "outputs": [],
   "source": [
    "n = 0\n",
    "\n",
    "liblist = df_parties[' party_Liberal']\n",
    "ind1 = 0\n",
    "ind2=0\n",
    "libsum = []\n",
    "\n",
    "while n < len(years):\n",
    "    ind2 += sums[n]\n",
    "    if n != 0:\n",
    "        ind1 += sums[n-1]\n",
    "    if n == 0:\n",
    "        slices = liblist[0:ind2]\n",
    "        slicesum = sum(slices)\n",
    "    if n != 0:\n",
    "        slices = liblist[ind1:ind2]\n",
    "        slicesum = sum(slices)\n",
    "    libsum.append(slicesum)\n",
    "    n += 1"
   ]
  },
  {
   "cell_type": "code",
   "execution_count": 37,
   "metadata": {},
   "outputs": [],
   "source": [
    "n = 0\n",
    "\n",
    "libdemlist = df_parties[' party_Liberal Democrats']\n",
    "ind1 = 0\n",
    "ind2=0\n",
    "libdemsum = []\n",
    "\n",
    "while n < len(years):\n",
    "    ind2 += sums[n]\n",
    "    if n != 0:\n",
    "        ind1 += sums[n-1]\n",
    "    if n == 0:\n",
    "        slices = libdemlist[0:ind2]\n",
    "        slicesum = sum(slices)\n",
    "    if n != 0:\n",
    "        slices = libdemlist[ind1:ind2]\n",
    "        slicesum = sum(slices)\n",
    "    libdemsum.append(slicesum)\n",
    "    n += 1"
   ]
  },
  {
   "cell_type": "code",
   "execution_count": 38,
   "metadata": {},
   "outputs": [],
   "source": [
    "n = 0\n",
    "\n",
    "pclist = df_parties[' party_Plaid Cymru']\n",
    "ind1 = 0\n",
    "ind2=0\n",
    "pcsum = []\n",
    "\n",
    "while n < len(years):\n",
    "    ind2 += sums[n]\n",
    "    if n != 0:\n",
    "        ind1 += sums[n-1]\n",
    "    if n == 0:\n",
    "        slices = pclist[0:ind2]\n",
    "        slicesum = sum(slices)\n",
    "    if n != 0:\n",
    "        slices = pclist[ind1:ind2]\n",
    "        slicesum = sum(slices)\n",
    "    pcsum.append(slicesum)\n",
    "    n += 1"
   ]
  },
  {
   "cell_type": "code",
   "execution_count": 39,
   "metadata": {},
   "outputs": [],
   "source": [
    "n = 0\n",
    "\n",
    "duplist = df_parties[' party_Democratic Unionist Party']\n",
    "ind1 = 0\n",
    "ind2=0\n",
    "dupsum = []\n",
    "\n",
    "while n < len(years):\n",
    "    ind2 += sums[n]\n",
    "    if n != 0:\n",
    "        ind1 += sums[n-1]\n",
    "    if n == 0:\n",
    "        slices = duplist[0:ind2]\n",
    "        slicesum = sum(slices)\n",
    "    if n != 0:\n",
    "        slices = duplist[ind1:ind2]\n",
    "        slicesum = sum(slices)\n",
    "    dupsum.append(slicesum)\n",
    "    n += 1"
   ]
  },
  {
   "cell_type": "code",
   "execution_count": 40,
   "metadata": {},
   "outputs": [],
   "source": [
    "n = 0\n",
    "\n",
    "snplist = df_parties[' party_Scottish National Party']\n",
    "ind1 = 0\n",
    "ind2=0\n",
    "snpsum = []\n",
    "\n",
    "while n < len(years):\n",
    "    ind2 += sums[n]\n",
    "    if n != 0:\n",
    "        ind1 += sums[n-1]\n",
    "    if n == 0:\n",
    "        slices = snplist[0:ind2]\n",
    "        slicesum = sum(slices)\n",
    "    if n != 0:\n",
    "        slices = snplist[ind1:ind2]\n",
    "        slicesum = sum(slices)\n",
    "    snpsum.append(slicesum)\n",
    "    n += 1"
   ]
  },
  {
   "cell_type": "code",
   "execution_count": 41,
   "metadata": {},
   "outputs": [],
   "source": [
    "df_new = pd.DataFrame(list(zip(years,conssum,labsum,libsum,libdemsum,pcsum,snpsum,dupsum)), columns =['Year','Conservatives','Labour', 'Liberal', 'Liberal Democrats', 'Plaid Cymru', 'Scottish National Party', 'Democratic Unionist Party'])"
   ]
  },
  {
   "cell_type": "code",
   "execution_count": 42,
   "metadata": {},
   "outputs": [
    {
     "data": {
      "image/png": "[encoded data removed]",
      "text/plain": [
       "<Figure size 720x720 with 1 Axes>"
      ]
     },
     "metadata": {
      "needs_background": "light"
     },
     "output_type": "display_data"
    }
   ],
   "source": [
    "ax = plt.gca()\n",
    "fig = plt.gcf()\n",
    "fig.set_size_inches(10, 10)\n",
    "plt.ylabel(\"MP's on Question Time Panel\")\n",
    "df_new.plot(kind='line',x='Year',y='Conservatives',color = 'blue',ax=ax)\n",
    "df_new.plot(kind='line',x='Year',y='Labour',color = 'red',ax=ax)\n",
    "df_new.plot(kind='line',x='Year',y='Liberal Democrats',color = 'orange',ax=ax)\n",
    "df_new.plot(kind='line',x='Year',y='Plaid Cymru',color = 'brown',ax=ax)\n",
    "df_new.plot(kind='line',x='Year',y='Scottish National Party',color = 'yellow',ax=ax)\n",
    "df_new.plot(kind='line',x='Year',y='Democratic Unionist Party',color = 'green',ax=ax)\n",
    "\n",
    "plt.show()"
   ]
  }
 ],
 "metadata": {
  "kernelspec": {
   "display_name": "Python 3",
   "language": "python",
   "name": "python3"
  },
  "language_info": {
   "codemirror_mode": {
    "name": "ipython",
    "version": 3
   },
   "file_extension": ".py",
   "mimetype": "text/x-python",
   "name": "python",
   "nbconvert_exporter": "python",
   "pygments_lexer": "ipython3",
   "version": "3.7.4"
  }
 },
 "nbformat": 4,
 "nbformat_minor": 2
}
